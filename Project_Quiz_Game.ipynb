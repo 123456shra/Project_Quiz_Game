{
 "cells": [
  {
   "cell_type": "code",
   "execution_count": 1,
   "id": "e3de7a24-2add-45a2-bfbe-4f0a0504df99",
   "metadata": {},
   "outputs": [
    {
     "name": "stdout",
     "output_type": "stream",
     "text": [
      "Welcome to my computer quiz\n"
     ]
    }
   ],
   "source": [
    "print(\"Welcome to my computer quiz\")"
   ]
  },
  {
   "cell_type": "code",
   "execution_count": 2,
   "id": "ac83bf8d-42f4-4d49-a1e6-f217206f1e8a",
   "metadata": {},
   "outputs": [
    {
     "name": "stdin",
     "output_type": "stream",
     "text": [
      "Do you want to play?  yes\n"
     ]
    }
   ],
   "source": [
    "playing = input(\"Do you want to play? \")"
   ]
  },
  {
   "cell_type": "code",
   "execution_count": 4,
   "id": "fa1cc3b7-4d21-40ba-8838-81ebee27f726",
   "metadata": {},
   "outputs": [
    {
     "name": "stdout",
     "output_type": "stream",
     "text": [
      "okay! Let's play :)\n"
     ]
    }
   ],
   "source": [
    "if playing.lower() != \"yes\":\n",
    "    quit()\n",
    "\n",
    "print(\"okay! Let's play :)\")\n",
    "score=0"
   ]
  },
  {
   "cell_type": "code",
   "execution_count": 11,
   "id": "981f67fd-2f24-4583-9ce9-6756f463764a",
   "metadata": {},
   "outputs": [
    {
     "name": "stdin",
     "output_type": "stream",
     "text": [
      "What does CPU stands for?  central processing unit\n"
     ]
    },
    {
     "name": "stdout",
     "output_type": "stream",
     "text": [
      "correct\n"
     ]
    }
   ],
   "source": [
    "answer = input(\"What does CPU stands for? \")\n",
    "if answer.lower() == \"central processing unit\":\n",
    "    print(\"correct\")\n",
    "    score +=1\n",
    "else:\n",
    "    print(\"Incorrect!\")"
   ]
  },
  {
   "cell_type": "code",
   "execution_count": 6,
   "id": "c7f49516-d5f0-47d3-93c9-b3ff09b1e26a",
   "metadata": {},
   "outputs": [
    {
     "name": "stdin",
     "output_type": "stream",
     "text": [
      "What does RAM stands for?  random actually memory\n"
     ]
    },
    {
     "name": "stdout",
     "output_type": "stream",
     "text": [
      "Incorrect\n"
     ]
    }
   ],
   "source": [
    "answer= input(\"What does RAM stands for? \")\n",
    "if answer.lower() == \"aandom access memory\":\n",
    "    print(\"correct\")\n",
    "    score += 1\n",
    "else:\n",
    "    print(\"Incorrect\")"
   ]
  },
  {
   "cell_type": "code",
   "execution_count": 7,
   "id": "8a2ea8d7-046e-4b96-a994-921a010427cb",
   "metadata": {},
   "outputs": [
    {
     "name": "stdin",
     "output_type": "stream",
     "text": [
      "What does GPU stands for?  graphics processing unit\n"
     ]
    },
    {
     "name": "stdout",
     "output_type": "stream",
     "text": [
      "correct\n"
     ]
    }
   ],
   "source": [
    "answer = input(\"What does GPU stands for? \")\n",
    "if answer.lower() == \"graphics processing unit\":\n",
    "    print(\"correct\")\n",
    "    score +=1\n",
    "else:\n",
    "    print(\"Incorrect\")"
   ]
  },
  {
   "cell_type": "code",
   "execution_count": 8,
   "id": "d3774e1b-6aec-4d1e-b55a-e3be43aa3690",
   "metadata": {},
   "outputs": [
    {
     "name": "stdin",
     "output_type": "stream",
     "text": [
      "What does PSU stands for?  power supply\n"
     ]
    },
    {
     "name": "stdout",
     "output_type": "stream",
     "text": [
      "correct\n"
     ]
    }
   ],
   "source": [
    "answer = input(\"What does PSU stands for? \")\n",
    "if answer.lower() == \"power supply\":\n",
    "    print(\"correct\")\n",
    "else:\n",
    "    print(\"Incorrect\")"
   ]
  },
  {
   "cell_type": "code",
   "execution_count": 13,
   "id": "311d01b5-0eaf-4bea-9a6f-1288a52d8693",
   "metadata": {},
   "outputs": [
    {
     "name": "stdout",
     "output_type": "stream",
     "text": [
      "you got 3Questions correct!\n"
     ]
    }
   ],
   "source": [
    "print(\"you got \"+ str(score)+ \"Questions correct!\")"
   ]
  },
  {
   "cell_type": "code",
   "execution_count": 14,
   "id": "9febce31-d1d4-4b6e-aeaf-422500459854",
   "metadata": {},
   "outputs": [
    {
     "name": "stdout",
     "output_type": "stream",
     "text": [
      "you got 75.0%\n"
     ]
    }
   ],
   "source": [
    "print(\"you got \" + str((score/4)*100) + \"%\")"
   ]
  },
  {
   "cell_type": "code",
   "execution_count": null,
   "id": "4be41fb2-86a1-4aa8-b86d-9855859e5ece",
   "metadata": {},
   "outputs": [],
   "source": []
  }
 ],
 "metadata": {
  "kernelspec": {
   "display_name": "Python 3 (ipykernel)",
   "language": "python",
   "name": "python3"
  },
  "language_info": {
   "codemirror_mode": {
    "name": "ipython",
    "version": 3
   },
   "file_extension": ".py",
   "mimetype": "text/x-python",
   "name": "python",
   "nbconvert_exporter": "python",
   "pygments_lexer": "ipython3",
   "version": "3.11.7"
  }
 },
 "nbformat": 4,
 "nbformat_minor": 5
}
